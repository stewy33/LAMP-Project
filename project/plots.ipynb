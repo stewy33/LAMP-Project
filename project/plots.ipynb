{
 "cells": [
  {
   "cell_type": "code",
   "execution_count": 56,
   "metadata": {},
   "outputs": [
    {
     "name": "stdout",
     "output_type": "stream",
     "text": [
      "The autoreload extension is already loaded. To reload it, use:\n",
      "  %reload_ext autoreload\n"
     ]
    }
   ],
   "source": [
    "%load_ext autoreload\n",
    "%autoreload 2"
   ]
  },
  {
   "cell_type": "code",
   "execution_count": 57,
   "metadata": {},
   "outputs": [],
   "source": [
    "import pickle\n",
    "\n",
    "import matplotlib.pyplot as plt\n",
    "import numpy as np"
   ]
  },
  {
   "cell_type": "code",
   "execution_count": 58,
   "metadata": {},
   "outputs": [],
   "source": [
    "def load_experiment_data(experiments):\n",
    "    for v in experiments.values():\n",
    "        with open(f\"{v['dir']}/log.pkl\", \"rb\") as f:\n",
    "            v[\"data\"] = pickle.load(f)"
   ]
  },
  {
   "cell_type": "code",
   "execution_count": 67,
   "metadata": {},
   "outputs": [],
   "source": [
    "experiments = {\n",
    "    \"sqp\": {\"dir\": \"runs/penalty_sqp/run_1\", \"label\": \"SQP\", \"color\": \"tab:blue\"},\n",
    "    \"gd\": {\"dir\": \"runs/gradient_descent/run_1\", \"label\": \"GD\", \"color\": \"tab:orange\"},\n",
    "    \"ula\": {\"dir\": \"runs/ula/run_1\", \"label\": \"ULA\", \"color\": \"tab:green\"},\n",
    "    \"mala\": {\"dir\": \"runs/mala/run_1\", \"label\": \"MALA\", \"color\": \"tab:red\"},\n",
    "    # \"hmc\": {\"dir\": \"runs/qmh/run_1\", \"label\": \"QMH\", \"color\": \"tab:purple\"},\n",
    "    # \"qmh\": {\"dir\": \"runs/qmh/run_1\", \"label\": \"QMH\", \"color\": \"tab:pink\"},\n",
    "}\n",
    "load_experiment_data(experiments)\n",
    "\n",
    "labels = [v[\"label\"] for v in experiments.values()]\n",
    "colors = [v[\"color\"] for v in experiments.values()]"
   ]
  },
  {
   "cell_type": "code",
   "execution_count": 68,
   "metadata": {},
   "outputs": [
    {
     "data": {
      "image/png": "[encoded data removed]",
      "text/plain": [
       "<Figure size 432x288 with 1 Axes>"
      ]
     },
     "metadata": {
      "needs_background": "light"
     },
     "output_type": "display_data"
    }
   ],
   "source": [
    "plt.bar(labels, [v[\"data\"][\"solve_time_seconds\"] for v in experiments.values()], color=colors)\n",
    "plt.show()"
   ]
  },
  {
   "cell_type": "code",
   "execution_count": 69,
   "metadata": {},
   "outputs": [
    {
     "data": {
      "image/png": "[encoded data removed]",
      "text/plain": [
       "<Figure size 432x288 with 1 Axes>"
      ]
     },
     "metadata": {
      "needs_background": "light"
     },
     "output_type": "display_data"
    }
   ],
   "source": [
    "plt.title(\"Trajectory Cost\")\n",
    "plt.bar(labels, [v[\"data\"][\"trajectory_cost\"][\"total\"] for v in experiments.values()], color=colors)\n",
    "plt.show()"
   ]
  },
  {
   "cell_type": "code",
   "execution_count": 70,
   "metadata": {},
   "outputs": [
    {
     "data": {
      "image/png": "[encoded data removed]",
      "text/plain": [
       "<Figure size 432x288 with 1 Axes>"
      ]
     },
     "metadata": {
      "needs_background": "light"
     },
     "output_type": "display_data"
    }
   ],
   "source": [
    "def path_length(algo):\n",
    "    end_effector_poses = np.stack([r[0][\"end_effector\"] for r in experiments[algo][\"data\"][\"run_results\"]])\n",
    "    return np.linalg.norm(np.diff(end_effector_poses, axis=0), axis=1).sum()\n",
    "\n",
    "plt.title(\"Path Norm\")\n",
    "plt.bar(labels, [path_length(algo) for algo in experiments.keys()], color=colors)\n",
    "plt.show()"
   ]
  },
  {
   "cell_type": "code",
   "execution_count": null,
   "metadata": {},
   "outputs": [],
   "source": []
  }
 ],
 "metadata": {
  "kernelspec": {
   "display_name": "Python 3.8.13 ('opentamp-qyeRpXI7-py3.8')",
   "language": "python",
   "name": "python3"
  },
  "language_info": {
   "codemirror_mode": {
    "name": "ipython",
    "version": 3
   },
   "file_extension": ".py",
   "mimetype": "text/x-python",
   "name": "python",
   "nbconvert_exporter": "python",
   "pygments_lexer": "ipython3",
   "version": "3.8.13"
  },
  "orig_nbformat": 4,
  "vscode": {
   "interpreter": {
    "hash": "bf6d03fa2040f752707ba3054861aa4cd698d336b5ba56e20042729fd80ea376"
   }
  }
 },
 "nbformat": 4,
 "nbformat_minor": 2
}
